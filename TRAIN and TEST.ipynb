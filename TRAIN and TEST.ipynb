{
 "cells": [
  {
   "cell_type": "markdown",
   "id": "acd35cbc",
   "metadata": {},
   "source": [
    "TRAIN"
   ]
  },
  {
   "cell_type": "code",
   "execution_count": null,
   "id": "d027bd59",
   "metadata": {},
   "outputs": [],
   "source": [
    "from ultralytics import YOLO\n",
    "import shutil\n",
    "import os\n",
    "\n",
    "# Train model\n",
    "model = YOLO(\"yolov8m.pt\")\n",
    "model.train(\n",
    "    data=\"/kaggle/working/merged_with_eraser/data.yaml\",\n",
    "    epochs=100,\n",
    "    imgsz=640,\n",
    "    batch=32,\n",
    "    workers=2,\n",
    "    device=0,\n",
    "    amp=True,\n",
    "    patience=20,\n",
    "    name=\"pen_pencil_eraser_opt\"\n",
    ")\n"
   ]
  },
  {
   "cell_type": "markdown",
   "id": "c8d11e2d",
   "metadata": {},
   "source": [
    "TEST 5 ảnh ngẫu nhiên"
   ]
  },
  {
   "cell_type": "code",
   "execution_count": null,
   "id": "e0cdfea8",
   "metadata": {},
   "outputs": [],
   "source": [
    "import random\n",
    "import matplotlib.pyplot as plt\n",
    "from ultralytics import YOLO\n",
    "import os\n",
    "\n",
    "# Load model đã train\n",
    "model = YOLO(\"/kaggle/working/runs/detect/pen_pencil_eraser_opt/weights/best.pt\")  # thay bằng best.pt hoặc last.pt\n",
    "\n",
    "# Lấy danh sách ảnh test\n",
    "test_images = os.listdir(\"/kaggle/working/merged_with_eraser/test/images\")\n",
    "\n",
    "# Chọn ngẫu nhiên 5 ảnh\n",
    "sample_images = random.sample(test_images, 5)\n",
    "\n",
    "# Hiển thị từng ảnh với prediction\n",
    "for img_name in sample_images:\n",
    "    img_path = f\"/kaggle/working/merged_with_eraser/test/images/{img_name}\"\n",
    "    \n",
    "    # Chạy predict\n",
    "    results = model.predict(source=img_path, imgsz=640, conf=0.25, save=False, line_width=2)\n",
    "    \n",
    "    # Vẽ prediction lên ảnh\n",
    "    res_plotted = results[0].plot()  # numpy array BGR\n",
    "    \n",
    "    # Hiển thị bằng matplotlib\n",
    "    plt.figure(figsize=(6,6))\n",
    "    plt.imshow(res_plotted[..., ::-1])  # đổi BGR -> RGB\n",
    "    plt.axis(\"off\")\n",
    "    plt.title(f\"Prediction for {img_name}\")\n",
    "    plt.show()\n"
   ]
  }
 ],
 "metadata": {
  "language_info": {
   "name": "python"
  }
 },
 "nbformat": 4,
 "nbformat_minor": 5
}
